{
  "nbformat": 4,
  "nbformat_minor": 0,
  "metadata": {
    "colab": {
      "provenance": [],
      "gpuType": "T4"
    },
    "kernelspec": {
      "name": "python3",
      "display_name": "Python 3"
    },
    "language_info": {
      "name": "python"
    },
    "accelerator": "GPU"
  },
  "cells": [
    {
      "cell_type": "code",
      "execution_count": 1,
      "metadata": {
        "colab": {
          "base_uri": "https://localhost:8080/"
        },
        "collapsed": true,
        "id": "6aPwxSZnc5td",
        "outputId": "4ed35370-78f9-4b7c-fa37-087d0896de27"
      },
      "outputs": [
        {
          "output_type": "stream",
          "name": "stdout",
          "text": [
            "Requirement already satisfied: deeplake<4 in /usr/local/lib/python3.11/dist-packages (3.9.46)\n",
            "Requirement already satisfied: numpy==1.26.4 in /usr/local/lib/python3.11/dist-packages (from deeplake<4) (1.26.4)\n",
            "Requirement already satisfied: boto3~=1.37.0 in /usr/local/lib/python3.11/dist-packages (from deeplake<4) (1.37.3)\n",
            "Requirement already satisfied: click~=8.2.0 in /usr/local/lib/python3.11/dist-packages (from deeplake<4) (8.2.1)\n",
            "Requirement already satisfied: six~=1.16.0 in /usr/local/lib/python3.11/dist-packages (from deeplake<4) (1.16.0)\n",
            "Requirement already satisfied: pathos~=0.3.0 in /usr/local/lib/python3.11/dist-packages (from deeplake<4) (0.3.4)\n",
            "Requirement already satisfied: humbug>=0.3.1 in /usr/local/lib/python3.11/dist-packages (from deeplake<4) (0.3.2)\n",
            "Requirement already satisfied: tqdm~=4.66.0 in /usr/local/lib/python3.11/dist-packages (from deeplake<4) (4.66.6)\n",
            "Requirement already satisfied: lz4~=4.4.0 in /usr/local/lib/python3.11/dist-packages (from deeplake<4) (4.4.4)\n",
            "Requirement already satisfied: pyjwt~=2.10.0 in /usr/local/lib/python3.11/dist-packages (from deeplake<4) (2.10.1)\n",
            "Requirement already satisfied: aioboto3>=13.3.0 in /usr/local/lib/python3.11/dist-packages (from deeplake<4) (14.3.0)\n",
            "Requirement already satisfied: nest_asyncio>=1.6.0 in /usr/local/lib/python3.11/dist-packages (from deeplake<4) (1.6.0)\n",
            "Requirement already satisfied: urllib3~=2.4.0 in /usr/local/lib/python3.11/dist-packages (from deeplake<4) (2.4.0)\n",
            "Requirement already satisfied: pydantic>=2.11.5 in /usr/local/lib/python3.11/dist-packages (from deeplake<4) (2.11.7)\n",
            "Requirement already satisfied: libdeeplake in /usr/local/lib/python3.11/dist-packages (from deeplake<4) (0.0.162)\n",
            "Requirement already satisfied: aiobotocore==2.22.0 in /usr/local/lib/python3.11/dist-packages (from aiobotocore[boto3]==2.22.0->aioboto3>=13.3.0->deeplake<4) (2.22.0)\n",
            "Requirement already satisfied: aiofiles>=23.2.1 in /usr/local/lib/python3.11/dist-packages (from aioboto3>=13.3.0->deeplake<4) (24.1.0)\n",
            "Requirement already satisfied: aiohttp<4.0.0,>=3.9.2 in /usr/local/lib/python3.11/dist-packages (from aiobotocore==2.22.0->aiobotocore[boto3]==2.22.0->aioboto3>=13.3.0->deeplake<4) (3.11.15)\n",
            "Requirement already satisfied: aioitertools<1.0.0,>=0.5.1 in /usr/local/lib/python3.11/dist-packages (from aiobotocore==2.22.0->aiobotocore[boto3]==2.22.0->aioboto3>=13.3.0->deeplake<4) (0.12.0)\n",
            "Requirement already satisfied: botocore<1.37.4,>=1.37.2 in /usr/local/lib/python3.11/dist-packages (from aiobotocore==2.22.0->aiobotocore[boto3]==2.22.0->aioboto3>=13.3.0->deeplake<4) (1.37.3)\n",
            "Requirement already satisfied: python-dateutil<3.0.0,>=2.1 in /usr/local/lib/python3.11/dist-packages (from aiobotocore==2.22.0->aiobotocore[boto3]==2.22.0->aioboto3>=13.3.0->deeplake<4) (2.9.0.post0)\n",
            "Requirement already satisfied: jmespath<2.0.0,>=0.7.1 in /usr/local/lib/python3.11/dist-packages (from aiobotocore==2.22.0->aiobotocore[boto3]==2.22.0->aioboto3>=13.3.0->deeplake<4) (1.0.1)\n",
            "Requirement already satisfied: multidict<7.0.0,>=6.0.0 in /usr/local/lib/python3.11/dist-packages (from aiobotocore==2.22.0->aiobotocore[boto3]==2.22.0->aioboto3>=13.3.0->deeplake<4) (6.6.3)\n",
            "Requirement already satisfied: wrapt<2.0.0,>=1.10.10 in /usr/local/lib/python3.11/dist-packages (from aiobotocore==2.22.0->aiobotocore[boto3]==2.22.0->aioboto3>=13.3.0->deeplake<4) (1.17.2)\n",
            "Requirement already satisfied: s3transfer<0.12.0,>=0.11.0 in /usr/local/lib/python3.11/dist-packages (from boto3~=1.37.0->deeplake<4) (0.11.3)\n",
            "Requirement already satisfied: requests in /usr/local/lib/python3.11/dist-packages (from humbug>=0.3.1->deeplake<4) (2.32.3)\n",
            "Requirement already satisfied: ppft>=1.7.7 in /usr/local/lib/python3.11/dist-packages (from pathos~=0.3.0->deeplake<4) (1.7.7)\n",
            "Requirement already satisfied: dill>=0.4.0 in /usr/local/lib/python3.11/dist-packages (from pathos~=0.3.0->deeplake<4) (0.4.0)\n",
            "Requirement already satisfied: pox>=0.3.6 in /usr/local/lib/python3.11/dist-packages (from pathos~=0.3.0->deeplake<4) (0.3.6)\n",
            "Requirement already satisfied: multiprocess>=0.70.18 in /usr/local/lib/python3.11/dist-packages (from pathos~=0.3.0->deeplake<4) (0.70.18)\n",
            "Requirement already satisfied: annotated-types>=0.6.0 in /usr/local/lib/python3.11/dist-packages (from pydantic>=2.11.5->deeplake<4) (0.7.0)\n",
            "Requirement already satisfied: pydantic-core==2.33.2 in /usr/local/lib/python3.11/dist-packages (from pydantic>=2.11.5->deeplake<4) (2.33.2)\n",
            "Requirement already satisfied: typing-extensions>=4.12.2 in /usr/local/lib/python3.11/dist-packages (from pydantic>=2.11.5->deeplake<4) (4.14.1)\n",
            "Requirement already satisfied: typing-inspection>=0.4.0 in /usr/local/lib/python3.11/dist-packages (from pydantic>=2.11.5->deeplake<4) (0.4.1)\n",
            "Requirement already satisfied: charset-normalizer<4,>=2 in /usr/local/lib/python3.11/dist-packages (from requests->humbug>=0.3.1->deeplake<4) (3.4.2)\n",
            "Requirement already satisfied: idna<4,>=2.5 in /usr/local/lib/python3.11/dist-packages (from requests->humbug>=0.3.1->deeplake<4) (3.10)\n",
            "Requirement already satisfied: certifi>=2017.4.17 in /usr/local/lib/python3.11/dist-packages (from requests->humbug>=0.3.1->deeplake<4) (2025.7.9)\n",
            "Requirement already satisfied: aiohappyeyeballs>=2.3.0 in /usr/local/lib/python3.11/dist-packages (from aiohttp<4.0.0,>=3.9.2->aiobotocore==2.22.0->aiobotocore[boto3]==2.22.0->aioboto3>=13.3.0->deeplake<4) (2.6.1)\n",
            "Requirement already satisfied: aiosignal>=1.1.2 in /usr/local/lib/python3.11/dist-packages (from aiohttp<4.0.0,>=3.9.2->aiobotocore==2.22.0->aiobotocore[boto3]==2.22.0->aioboto3>=13.3.0->deeplake<4) (1.4.0)\n",
            "Requirement already satisfied: attrs>=17.3.0 in /usr/local/lib/python3.11/dist-packages (from aiohttp<4.0.0,>=3.9.2->aiobotocore==2.22.0->aiobotocore[boto3]==2.22.0->aioboto3>=13.3.0->deeplake<4) (25.3.0)\n",
            "Requirement already satisfied: frozenlist>=1.1.1 in /usr/local/lib/python3.11/dist-packages (from aiohttp<4.0.0,>=3.9.2->aiobotocore==2.22.0->aiobotocore[boto3]==2.22.0->aioboto3>=13.3.0->deeplake<4) (1.7.0)\n",
            "Requirement already satisfied: propcache>=0.2.0 in /usr/local/lib/python3.11/dist-packages (from aiohttp<4.0.0,>=3.9.2->aiobotocore==2.22.0->aiobotocore[boto3]==2.22.0->aioboto3>=13.3.0->deeplake<4) (0.3.2)\n",
            "Requirement already satisfied: yarl<2.0,>=1.17.0 in /usr/local/lib/python3.11/dist-packages (from aiohttp<4.0.0,>=3.9.2->aiobotocore==2.22.0->aiobotocore[boto3]==2.22.0->aioboto3>=13.3.0->deeplake<4) (1.20.1)\n"
          ]
        }
      ],
      "source": [
        "!pip install \"deeplake<4\""
      ]
    },
    {
      "cell_type": "code",
      "source": [
        "import torch\n",
        "import torch.nn as nn\n",
        "import torch.optim as optim\n",
        "import torchvision.transforms as transforms\n",
        "import deeplake\n",
        "import matplotlib.pyplot as plt\n",
        "import numpy as np\n",
        "from torch.utils.data import random_split\n",
        "from torch.utils.data import DataLoader\n",
        "from sklearn.model_selection import train_test_split"
      ],
      "metadata": {
        "id": "4K1I2M3gdU7n",
        "colab": {
          "base_uri": "https://localhost:8080/"
        },
        "outputId": "9e759c62-6d80-45d5-be08-028f416549a9"
      },
      "execution_count": 2,
      "outputs": [
        {
          "output_type": "stream",
          "name": "stderr",
          "text": [
            "/usr/local/lib/python3.11/dist-packages/deeplake/util/check_latest_version.py:32: UserWarning: A newer version of deeplake (4.2.14) is available. It's recommended that you update to the latest version using `pip install -U deeplake`.\n",
            "  warnings.warn(\n"
          ]
        }
      ]
    },
    {
      "cell_type": "code",
      "source": [
        "device = torch.device('cuda' if torch.cuda.is_available() else 'cpu')"
      ],
      "metadata": {
        "id": "vzlY4xhfdU5S"
      },
      "execution_count": 3,
      "outputs": []
    },
    {
      "cell_type": "code",
      "source": [
        "# Data augmentation for training set\n",
        "train_transforms = transforms.Compose([\n",
        "    transforms.ToPILImage(),\n",
        "    transforms.Resize((48, 48)),\n",
        "    transforms.RandomHorizontalFlip(p=0.5),\n",
        "    transforms.RandomRotation(degrees=15),\n",
        "    transforms.RandomAffine(degrees=0, translate=(0.1, 0.1)),\n",
        "    transforms.ToTensor(),\n",
        "    transforms.Normalize(mean=[0.485], std=[0.229])\n",
        "])\n",
        "\n",
        "# No augmentation for validation/test\n",
        "val_test_transforms = transforms.Compose([\n",
        "    transforms.ToPILImage(),\n",
        "    transforms.Resize((48, 48)),\n",
        "    transforms.ToTensor(),\n",
        "    transforms.Normalize(mean=[0.485], std=[0.229])\n",
        "])"
      ],
      "metadata": {
        "id": "kPBoqWx1dU2M"
      },
      "execution_count": 4,
      "outputs": []
    },
    {
      "cell_type": "code",
      "source": [
        "ds_full = deeplake.load('hub://activeloop/fer2013-train')\n",
        "emotions = ['Angry', 'Disgust', 'Fear', 'Happy', 'Sad', 'Surprise', 'Neutral']"
      ],
      "metadata": {
        "colab": {
          "base_uri": "https://localhost:8080/"
        },
        "id": "_K4FwYFJdUzu",
        "outputId": "e2f66201-cccf-4284-9d2b-77196e922be3"
      },
      "execution_count": 5,
      "outputs": [
        {
          "output_type": "stream",
          "name": "stderr",
          "text": [
            "\r\r"
          ]
        },
        {
          "output_type": "stream",
          "name": "stdout",
          "text": [
            "Opening dataset in read-only mode as you don't have write permissions.\n"
          ]
        },
        {
          "output_type": "stream",
          "name": "stderr",
          "text": [
            "/"
          ]
        },
        {
          "output_type": "stream",
          "name": "stdout",
          "text": [
            "This dataset can be visualized in Jupyter Notebook by ds.visualize() or at https://app.activeloop.ai/activeloop/fer2013-train\n",
            "\n"
          ]
        },
        {
          "output_type": "stream",
          "name": "stderr",
          "text": [
            "|"
          ]
        },
        {
          "output_type": "stream",
          "name": "stdout",
          "text": [
            "hub://activeloop/fer2013-train loaded successfully.\n",
            "\n"
          ]
        },
        {
          "output_type": "stream",
          "name": "stderr",
          "text": [
            "\r \r\r\r"
          ]
        }
      ]
    },
    {
      "cell_type": "code",
      "source": [
        "total_size = len(ds_full)\n",
        "indices = np.arange(total_size)\n",
        "\n",
        "# First split: train vs temp (val+test)\n",
        "train_indices, temp_indices = train_test_split(\n",
        "    indices, test_size=0.2, random_state=42, shuffle=True\n",
        ")\n",
        "# Second split: validation vs test\n",
        "val_indices, test_indices = train_test_split(\n",
        "    temp_indices, test_size=0.5, random_state=42, shuffle=True\n",
        ")\n",
        "\n",
        "\n",
        "def label_transform(labels):\n",
        "    # Convert to tensor if it's a numpy array, then ensure long dtype and remove extra dimensions\n",
        "    return torch.as_tensor(labels).squeeze().long()\n",
        "\n",
        "train_loader = ds_full.pytorch(\n",
        "    indices=train_indices,\n",
        "    batch_size=32,\n",
        "    shuffle=True,\n",
        "    num_workers=2,\n",
        "    transform={'images': train_transforms, 'labels': label_transform}\n",
        ")\n",
        "\n",
        "val_loader = ds_full.pytorch(\n",
        "    indices=val_indices,\n",
        "    batch_size=32,\n",
        "    shuffle=False,\n",
        "    num_workers=2,\n",
        "    transform={'images': val_test_transforms, 'labels': label_transform}\n",
        ")\n",
        "\n",
        "test_loader = ds_full.pytorch(\n",
        "    indices=test_indices,\n",
        "    batch_size=32,\n",
        "    shuffle=False,\n",
        "    num_workers=2,\n",
        "    transform={'images': val_test_transforms, 'labels': label_transform}\n",
        ")\n"
      ],
      "metadata": {
        "id": "6LNGeFw9dUxC"
      },
      "execution_count": 6,
      "outputs": []
    },
    {
      "cell_type": "code",
      "source": [
        "class EmotionCNN(nn.Module):\n",
        "    def __init__(self):\n",
        "        super(EmotionCNN, self).__init__()\n",
        "\n",
        "        # Convolutional layers\n",
        "        self.conv1 = nn.Conv2d(1, 32, 3, padding=1)\n",
        "        self.conv2 = nn.Conv2d(32, 64, 3, padding=1)\n",
        "        self.conv3 = nn.Conv2d(64, 128, 3, padding=1)\n",
        "\n",
        "        # Pooling\n",
        "        self.pool = nn.MaxPool2d(2, 2)\n",
        "\n",
        "        # Fully connected layers\n",
        "        self.fc1 = nn.Linear(128 * 6 * 6, 256)\n",
        "        self.fc2 = nn.Linear(256, 7)\n",
        "\n",
        "        # Dropout\n",
        "        self.dropout = nn.Dropout(0.5)\n",
        "\n",
        "    def forward(self, x):\n",
        "        x = self.pool(torch.relu(self.conv1(x)))\n",
        "        x = self.pool(torch.relu(self.conv2(x)))\n",
        "        x = self.pool(torch.relu(self.conv3(x)))\n",
        "\n",
        "        x = x.view(-1, 128 * 6 * 6)\n",
        "        x = torch.relu(self.fc1(x))\n",
        "        x = self.dropout(x)\n",
        "        x = self.fc2(x)\n",
        "\n",
        "        return x\n",
        "\n",
        "#hyperparameters\n",
        "lr=0.001\n",
        "num_epochs=30\n",
        "batch_size=32\n",
        "\n",
        "# Initialize model\n",
        "model = EmotionCNN().to(device)\n",
        "criterion = nn.CrossEntropyLoss()\n",
        "optimizer = optim.Adam(model.parameters(), lr=lr)"
      ],
      "metadata": {
        "id": "cRBTPT7ndUuI"
      },
      "execution_count": 7,
      "outputs": []
    },
    {
      "cell_type": "code",
      "source": [
        "print(f\"Model : {sum(p.numel() for p in model.parameters() if p.requires_grad)} parameters\")"
      ],
      "metadata": {
        "colab": {
          "base_uri": "https://localhost:8080/"
        },
        "id": "xbnki2oSiMFY",
        "outputId": "508a10c2-78b5-45fa-b1f9-9d68a0b33a5e"
      },
      "execution_count": 8,
      "outputs": [
        {
          "output_type": "stream",
          "name": "stdout",
          "text": [
            "Model : 1274375 parameters\n"
          ]
        }
      ]
    },
    {
      "cell_type": "code",
      "source": [
        "def train_one_epoch(model, train_loader, criterion, optimizer):\n",
        "    model.train()\n",
        "    total_loss = 0\n",
        "    correct = 0\n",
        "    total = 0\n",
        "\n",
        "    for batch_idx, batch in enumerate(train_loader):\n",
        "        images = batch['images'].to(device)\n",
        "        labels = batch['labels'].to(device)\n",
        "\n",
        "        optimizer.zero_grad()\n",
        "        outputs = model(images)\n",
        "        loss = criterion(outputs, labels)\n",
        "        loss.backward()\n",
        "        optimizer.step()\n",
        "\n",
        "        total_loss += loss.item()\n",
        "        _, predicted = torch.max(outputs.data, 1)\n",
        "        total += labels.size(0)\n",
        "        correct += (predicted == labels).sum().item()\n",
        "\n",
        "        if batch_idx % 100 == 0:\n",
        "            print(f'Batch [{batch_idx}/{len(train_loader)}], Loss: {loss.item():.4f}')\n",
        "\n",
        "    avg_loss = total_loss / len(train_loader)\n",
        "    accuracy = 100 * correct / total\n",
        "\n",
        "    return avg_loss, accuracy\n",
        "\n",
        "# Simple validation function\n",
        "def validate(model, test_loader, criterion):\n",
        "    model.eval()\n",
        "    total_loss = 0\n",
        "    correct = 0\n",
        "    total = 0\n",
        "\n",
        "    with torch.no_grad():\n",
        "        for batch in test_loader:\n",
        "            images = batch['images'].to(device)\n",
        "            labels = batch['labels'].to(device)\n",
        "\n",
        "            outputs = model(images)\n",
        "            loss = criterion(outputs, labels)\n",
        "\n",
        "            total_loss += loss.item()\n",
        "            _, predicted = torch.max(outputs.data, 1)\n",
        "            total += labels.size(0)\n",
        "            correct += (predicted == labels).sum().item()\n",
        "\n",
        "    avg_loss = total_loss / len(test_loader)\n",
        "    accuracy = 100 * correct / total\n",
        "\n",
        "    return avg_loss, accuracy"
      ],
      "metadata": {
        "id": "eeZvjgCeiMAg"
      },
      "execution_count": 9,
      "outputs": []
    },
    {
      "cell_type": "code",
      "source": [
        "best_accuracy = 0\n",
        "\n",
        "train_losses = []\n",
        "train_accuracies = []\n",
        "val_losses = []\n",
        "val_accuracies = []\n",
        "\n",
        "for epoch in range(num_epochs):\n",
        "    print(f'\\nEpoch {epoch+1}/{num_epochs}')\n",
        "    print('-' * 30)\n",
        "\n",
        "    # Train\n",
        "    train_loss, train_acc = train_one_epoch(model, train_loader, criterion, optimizer)\n",
        "    print(f'Training - Loss: {train_loss:.4f}, Accuracy: {train_acc:.2f}%')\n",
        "\n",
        "    # Validate\n",
        "    val_loss, val_acc = validate(model, val_loader, criterion)\n",
        "    print(f'Validation - Loss: {val_loss:.4f}, Accuracy: {val_acc:.2f}%')\n",
        "\n",
        "    # Save results\n",
        "    train_losses.append(train_loss)\n",
        "    train_accuracies.append(train_acc)\n",
        "    val_losses.append(val_loss)\n",
        "    val_accuracies.append(val_acc)\n",
        "\n",
        "    # Save best model\n",
        "    if val_acc > best_accuracy:\n",
        "        best_accuracy = val_acc\n",
        "        torch.save(model.state_dict(), 'best_model.pth')\n",
        "        print(f'New best model saved! Accuracy: {val_acc:.2f}%')"
      ],
      "metadata": {
        "colab": {
          "base_uri": "https://localhost:8080/"
        },
        "collapsed": true,
        "id": "jFgZmJ32iL7S",
        "outputId": "a6e9744c-4b6b-4099-b785-bf609682bb82"
      },
      "execution_count": 10,
      "outputs": [
        {
          "output_type": "stream",
          "name": "stdout",
          "text": [
            "\n",
            "Epoch 1/30\n",
            "------------------------------\n"
          ]
        },
        {
          "output_type": "stream",
          "name": "stderr",
          "text": [
            "Please wait, filling up the shuffle buffer with samples.:   7%|▋         | 140M/1.91G [00:18<03:59, 7.94MB/s]/usr/local/lib/python3.11/dist-packages/deeplake/util/warnings.py:7: UserWarning: `MAX_TENSORS_IN_SHUFFLE_BUFFER` of 32000 reached. Shuffle buffer will not be filled up to the `buffer_size` limit of 2.05e+03 MB.\n",
            "  warnings.warn(*args, **kwargs)\n",
            "Please wait, filling up the shuffle buffer with samples.:   7%|▋         | 141M/1.91G [00:18<04:02, 7.84MB/s]\n"
          ]
        },
        {
          "output_type": "stream",
          "name": "stdout",
          "text": [
            "Shuffle buffer filling is complete.\n",
            "Batch [0/898], Loss: 1.9424\n",
            "Batch [100/898], Loss: 1.9133\n",
            "Batch [200/898], Loss: 1.9396\n",
            "Batch [300/898], Loss: 1.9030\n",
            "Batch [400/898], Loss: 1.6959\n",
            "Batch [500/898], Loss: 1.7693\n",
            "Batch [600/898], Loss: 1.7971\n",
            "Batch [700/898], Loss: 1.8200\n",
            "Batch [800/898], Loss: 1.6256\n",
            "Training - Loss: 1.7281, Accuracy: 29.59%\n",
            "Validation - Loss: 1.5057, Accuracy: 41.75%\n",
            "New best model saved! Accuracy: 41.75%\n",
            "\n",
            "Epoch 2/30\n",
            "------------------------------\n"
          ]
        },
        {
          "output_type": "stream",
          "name": "stderr",
          "text": [
            "Please wait, filling up the shuffle buffer with samples.:   7%|▋         | 140M/1.91G [00:19<03:05, 10.3MB/s]/usr/local/lib/python3.11/dist-packages/deeplake/util/warnings.py:7: UserWarning: `MAX_TENSORS_IN_SHUFFLE_BUFFER` of 32000 reached. Shuffle buffer will not be filled up to the `buffer_size` limit of 2.05e+03 MB.\n",
            "  warnings.warn(*args, **kwargs)\n",
            "Please wait, filling up the shuffle buffer with samples.:   7%|▋         | 141M/1.91G [00:20<04:18, 7.35MB/s]\n"
          ]
        },
        {
          "output_type": "stream",
          "name": "stdout",
          "text": [
            "Shuffle buffer filling is complete.\n",
            "Batch [0/898], Loss: 1.5189\n",
            "Batch [100/898], Loss: 1.6552\n",
            "Batch [200/898], Loss: 1.6346\n",
            "Batch [300/898], Loss: 1.1656\n",
            "Batch [400/898], Loss: 1.5789\n",
            "Batch [500/898], Loss: 1.5104\n",
            "Batch [600/898], Loss: 1.3388\n",
            "Batch [700/898], Loss: 1.5260\n",
            "Batch [800/898], Loss: 1.4992\n",
            "Training - Loss: 1.5172, Accuracy: 40.64%\n",
            "Validation - Loss: 1.3534, Accuracy: 48.56%\n",
            "New best model saved! Accuracy: 48.56%\n",
            "\n",
            "Epoch 3/30\n",
            "------------------------------\n"
          ]
        },
        {
          "output_type": "stream",
          "name": "stderr",
          "text": [
            "Please wait, filling up the shuffle buffer with samples.:   7%|▋         | 141M/1.91G [00:19<03:25, 9.24MB/s]/usr/local/lib/python3.11/dist-packages/deeplake/util/warnings.py:7: UserWarning: `MAX_TENSORS_IN_SHUFFLE_BUFFER` of 32000 reached. Shuffle buffer will not be filled up to the `buffer_size` limit of 2.05e+03 MB.\n",
            "  warnings.warn(*args, **kwargs)\n",
            "Please wait, filling up the shuffle buffer with samples.:   7%|▋         | 141M/1.91G [00:19<04:09, 7.62MB/s]\n"
          ]
        },
        {
          "output_type": "stream",
          "name": "stdout",
          "text": [
            "Shuffle buffer filling is complete.\n",
            "Batch [0/898], Loss: 1.2946\n",
            "Batch [100/898], Loss: 1.6510\n",
            "Batch [200/898], Loss: 1.2653\n",
            "Batch [300/898], Loss: 1.3007\n",
            "Batch [400/898], Loss: 1.5245\n",
            "Batch [500/898], Loss: 1.3289\n",
            "Batch [600/898], Loss: 1.2759\n",
            "Batch [700/898], Loss: 1.5971\n",
            "Batch [800/898], Loss: 1.2313\n",
            "Training - Loss: 1.4139, Accuracy: 45.78%\n",
            "Validation - Loss: 1.2833, Accuracy: 50.90%\n",
            "New best model saved! Accuracy: 50.90%\n",
            "\n",
            "Epoch 4/30\n",
            "------------------------------\n"
          ]
        },
        {
          "output_type": "stream",
          "name": "stderr",
          "text": [
            "Please wait, filling up the shuffle buffer with samples.:   7%|▋         | 140M/1.91G [00:18<03:06, 10.2MB/s]/usr/local/lib/python3.11/dist-packages/deeplake/util/warnings.py:7: UserWarning: `MAX_TENSORS_IN_SHUFFLE_BUFFER` of 32000 reached. Shuffle buffer will not be filled up to the `buffer_size` limit of 2.05e+03 MB.\n",
            "  warnings.warn(*args, **kwargs)\n",
            "Please wait, filling up the shuffle buffer with samples.:   7%|▋         | 141M/1.91G [00:18<04:02, 7.83MB/s]\n"
          ]
        },
        {
          "output_type": "stream",
          "name": "stdout",
          "text": [
            "Shuffle buffer filling is complete.\n",
            "Batch [0/898], Loss: 1.2592\n",
            "Batch [100/898], Loss: 1.3474\n",
            "Batch [200/898], Loss: 1.4906\n",
            "Batch [300/898], Loss: 1.1853\n",
            "Batch [400/898], Loss: 1.1901\n",
            "Batch [500/898], Loss: 1.3234\n",
            "Batch [600/898], Loss: 1.2603\n",
            "Batch [700/898], Loss: 1.1445\n",
            "Batch [800/898], Loss: 1.1602\n",
            "Training - Loss: 1.3595, Accuracy: 48.09%\n",
            "Validation - Loss: 1.2317, Accuracy: 53.22%\n",
            "New best model saved! Accuracy: 53.22%\n",
            "\n",
            "Epoch 5/30\n",
            "------------------------------\n"
          ]
        },
        {
          "output_type": "stream",
          "name": "stderr",
          "text": [
            "Please wait, filling up the shuffle buffer with samples.:   7%|▋         | 140M/1.91G [00:18<04:13, 7.50MB/s]/usr/local/lib/python3.11/dist-packages/deeplake/util/warnings.py:7: UserWarning: `MAX_TENSORS_IN_SHUFFLE_BUFFER` of 32000 reached. Shuffle buffer will not be filled up to the `buffer_size` limit of 2.05e+03 MB.\n",
            "  warnings.warn(*args, **kwargs)\n",
            "Please wait, filling up the shuffle buffer with samples.:   7%|▋         | 141M/1.91G [00:18<04:00, 7.89MB/s]\n"
          ]
        },
        {
          "output_type": "stream",
          "name": "stdout",
          "text": [
            "Shuffle buffer filling is complete.\n",
            "Batch [0/898], Loss: 1.5551\n",
            "Batch [100/898], Loss: 1.3186\n",
            "Batch [200/898], Loss: 1.4546\n",
            "Batch [300/898], Loss: 1.5528\n",
            "Batch [400/898], Loss: 1.3798\n",
            "Batch [500/898], Loss: 1.1537\n",
            "Batch [600/898], Loss: 1.1053\n",
            "Batch [700/898], Loss: 0.9900\n",
            "Batch [800/898], Loss: 1.0478\n",
            "Training - Loss: 1.3216, Accuracy: 49.45%\n",
            "Validation - Loss: 1.2148, Accuracy: 53.75%\n",
            "New best model saved! Accuracy: 53.75%\n",
            "\n",
            "Epoch 6/30\n",
            "------------------------------\n"
          ]
        },
        {
          "output_type": "stream",
          "name": "stderr",
          "text": [
            "Please wait, filling up the shuffle buffer with samples.:   7%|▋         | 141M/1.91G [00:18<03:04, 10.3MB/s]/usr/local/lib/python3.11/dist-packages/deeplake/util/warnings.py:7: UserWarning: `MAX_TENSORS_IN_SHUFFLE_BUFFER` of 32000 reached. Shuffle buffer will not be filled up to the `buffer_size` limit of 2.05e+03 MB.\n",
            "  warnings.warn(*args, **kwargs)\n",
            "Please wait, filling up the shuffle buffer with samples.:   7%|▋         | 141M/1.91G [00:18<03:56, 8.03MB/s]\n"
          ]
        },
        {
          "output_type": "stream",
          "name": "stdout",
          "text": [
            "Shuffle buffer filling is complete.\n",
            "Batch [0/898], Loss: 1.4631\n",
            "Batch [100/898], Loss: 1.3687\n",
            "Batch [200/898], Loss: 1.2517\n",
            "Batch [300/898], Loss: 1.4599\n",
            "Batch [400/898], Loss: 1.1106\n",
            "Batch [500/898], Loss: 1.9399\n",
            "Batch [600/898], Loss: 0.9947\n",
            "Batch [700/898], Loss: 0.9422\n",
            "Batch [800/898], Loss: 1.2883\n",
            "Training - Loss: 1.2966, Accuracy: 50.58%\n",
            "Validation - Loss: 1.1670, Accuracy: 55.82%\n",
            "New best model saved! Accuracy: 55.82%\n",
            "\n",
            "Epoch 7/30\n",
            "------------------------------\n"
          ]
        },
        {
          "output_type": "stream",
          "name": "stderr",
          "text": [
            "Please wait, filling up the shuffle buffer with samples.:   7%|▋         | 141M/1.91G [00:20<04:50, 6.54MB/s]/usr/local/lib/python3.11/dist-packages/deeplake/util/warnings.py:7: UserWarning: `MAX_TENSORS_IN_SHUFFLE_BUFFER` of 32000 reached. Shuffle buffer will not be filled up to the `buffer_size` limit of 2.05e+03 MB.\n",
            "  warnings.warn(*args, **kwargs)\n",
            "Please wait, filling up the shuffle buffer with samples.:   7%|▋         | 141M/1.91G [00:20<04:17, 7.38MB/s]\n"
          ]
        },
        {
          "output_type": "stream",
          "name": "stdout",
          "text": [
            "Shuffle buffer filling is complete.\n",
            "Batch [0/898], Loss: 1.2966\n",
            "Batch [100/898], Loss: 1.4343\n",
            "Batch [200/898], Loss: 1.3476\n",
            "Batch [300/898], Loss: 1.3837\n",
            "Batch [400/898], Loss: 1.4740\n",
            "Batch [500/898], Loss: 1.3898\n",
            "Batch [600/898], Loss: 1.1231\n",
            "Batch [700/898], Loss: 1.2615\n",
            "Batch [800/898], Loss: 1.5148\n",
            "Training - Loss: 1.2762, Accuracy: 51.24%\n",
            "Validation - Loss: 1.1447, Accuracy: 56.37%\n",
            "New best model saved! Accuracy: 56.37%\n",
            "\n",
            "Epoch 8/30\n",
            "------------------------------\n"
          ]
        },
        {
          "output_type": "stream",
          "name": "stderr",
          "text": [
            "Please wait, filling up the shuffle buffer with samples.:   7%|▋         | 141M/1.91G [00:18<03:08, 10.1MB/s]/usr/local/lib/python3.11/dist-packages/deeplake/util/warnings.py:7: UserWarning: `MAX_TENSORS_IN_SHUFFLE_BUFFER` of 32000 reached. Shuffle buffer will not be filled up to the `buffer_size` limit of 2.05e+03 MB.\n",
            "  warnings.warn(*args, **kwargs)\n",
            "Please wait, filling up the shuffle buffer with samples.:   7%|▋         | 141M/1.91G [00:18<03:57, 8.01MB/s]\n"
          ]
        },
        {
          "output_type": "stream",
          "name": "stdout",
          "text": [
            "Shuffle buffer filling is complete.\n",
            "Batch [0/898], Loss: 1.4683\n",
            "Batch [100/898], Loss: 1.6603\n",
            "Batch [200/898], Loss: 1.1583\n",
            "Batch [300/898], Loss: 1.2992\n",
            "Batch [400/898], Loss: 1.4487\n",
            "Batch [500/898], Loss: 1.5430\n",
            "Batch [600/898], Loss: 1.8822\n",
            "Batch [700/898], Loss: 1.0814\n",
            "Batch [800/898], Loss: 1.0574\n",
            "Training - Loss: 1.2581, Accuracy: 52.23%\n",
            "Validation - Loss: 1.1502, Accuracy: 55.98%\n",
            "\n",
            "Epoch 9/30\n",
            "------------------------------\n"
          ]
        },
        {
          "output_type": "stream",
          "name": "stderr",
          "text": [
            "Please wait, filling up the shuffle buffer with samples.:   7%|▋         | 140M/1.91G [00:19<04:43, 6.70MB/s]/usr/local/lib/python3.11/dist-packages/deeplake/util/warnings.py:7: UserWarning: `MAX_TENSORS_IN_SHUFFLE_BUFFER` of 32000 reached. Shuffle buffer will not be filled up to the `buffer_size` limit of 2.05e+03 MB.\n",
            "  warnings.warn(*args, **kwargs)\n",
            "Please wait, filling up the shuffle buffer with samples.:   7%|▋         | 141M/1.91G [00:19<04:05, 7.74MB/s]\n"
          ]
        },
        {
          "output_type": "stream",
          "name": "stdout",
          "text": [
            "Shuffle buffer filling is complete.\n",
            "Batch [0/898], Loss: 1.2630\n",
            "Batch [100/898], Loss: 1.2238\n",
            "Batch [200/898], Loss: 1.3623\n",
            "Batch [300/898], Loss: 1.6189\n",
            "Batch [400/898], Loss: 1.3493\n",
            "Batch [500/898], Loss: 1.3137\n",
            "Batch [600/898], Loss: 1.3912\n",
            "Batch [700/898], Loss: 0.8726\n",
            "Batch [800/898], Loss: 1.2667\n",
            "Training - Loss: 1.2426, Accuracy: 52.60%\n",
            "Validation - Loss: 1.1145, Accuracy: 57.63%\n",
            "New best model saved! Accuracy: 57.63%\n",
            "\n",
            "Epoch 10/30\n",
            "------------------------------\n"
          ]
        },
        {
          "output_type": "stream",
          "name": "stderr",
          "text": [
            "Please wait, filling up the shuffle buffer with samples.:   7%|▋         | 140M/1.91G [00:17<04:05, 7.76MB/s]/usr/local/lib/python3.11/dist-packages/deeplake/util/warnings.py:7: UserWarning: `MAX_TENSORS_IN_SHUFFLE_BUFFER` of 32000 reached. Shuffle buffer will not be filled up to the `buffer_size` limit of 2.05e+03 MB.\n",
            "  warnings.warn(*args, **kwargs)\n",
            "Please wait, filling up the shuffle buffer with samples.:   7%|▋         | 141M/1.91G [00:17<03:48, 8.32MB/s]\n"
          ]
        },
        {
          "output_type": "stream",
          "name": "stdout",
          "text": [
            "Shuffle buffer filling is complete.\n",
            "Batch [0/898], Loss: 1.0421\n",
            "Batch [100/898], Loss: 1.3725\n",
            "Batch [200/898], Loss: 1.3285\n",
            "Batch [300/898], Loss: 1.1273\n",
            "Batch [400/898], Loss: 1.2248\n",
            "Batch [500/898], Loss: 1.1650\n",
            "Batch [600/898], Loss: 1.1119\n",
            "Batch [700/898], Loss: 1.1514\n",
            "Batch [800/898], Loss: 1.1633\n",
            "Training - Loss: 1.2359, Accuracy: 53.58%\n",
            "Validation - Loss: 1.1306, Accuracy: 57.09%\n",
            "\n",
            "Epoch 11/30\n",
            "------------------------------\n"
          ]
        },
        {
          "output_type": "stream",
          "name": "stderr",
          "text": [
            "Please wait, filling up the shuffle buffer with samples.:   7%|▋         | 140M/1.91G [00:19<04:17, 7.40MB/s]/usr/local/lib/python3.11/dist-packages/deeplake/util/warnings.py:7: UserWarning: `MAX_TENSORS_IN_SHUFFLE_BUFFER` of 32000 reached. Shuffle buffer will not be filled up to the `buffer_size` limit of 2.05e+03 MB.\n",
            "  warnings.warn(*args, **kwargs)\n",
            "Please wait, filling up the shuffle buffer with samples.:   7%|▋         | 141M/1.91G [00:19<04:13, 7.49MB/s]\n"
          ]
        },
        {
          "output_type": "stream",
          "name": "stdout",
          "text": [
            "Shuffle buffer filling is complete.\n",
            "Batch [0/898], Loss: 1.0771\n",
            "Batch [100/898], Loss: 1.0249\n",
            "Batch [200/898], Loss: 1.2795\n",
            "Batch [300/898], Loss: 1.3595\n",
            "Batch [400/898], Loss: 1.5527\n",
            "Batch [500/898], Loss: 1.0266\n",
            "Batch [600/898], Loss: 0.9304\n",
            "Batch [700/898], Loss: 1.3250\n",
            "Batch [800/898], Loss: 1.2123\n",
            "Training - Loss: 1.2201, Accuracy: 53.63%\n",
            "Validation - Loss: 1.1023, Accuracy: 57.91%\n",
            "New best model saved! Accuracy: 57.91%\n",
            "\n",
            "Epoch 12/30\n",
            "------------------------------\n"
          ]
        },
        {
          "output_type": "stream",
          "name": "stderr",
          "text": [
            "Please wait, filling up the shuffle buffer with samples.:   7%|▋         | 140M/1.91G [00:18<03:15, 9.73MB/s]/usr/local/lib/python3.11/dist-packages/deeplake/util/warnings.py:7: UserWarning: `MAX_TENSORS_IN_SHUFFLE_BUFFER` of 32000 reached. Shuffle buffer will not be filled up to the `buffer_size` limit of 2.05e+03 MB.\n",
            "  warnings.warn(*args, **kwargs)\n",
            "Please wait, filling up the shuffle buffer with samples.:   7%|▋         | 141M/1.91G [00:18<03:57, 8.01MB/s]\n"
          ]
        },
        {
          "output_type": "stream",
          "name": "stdout",
          "text": [
            "Shuffle buffer filling is complete.\n",
            "Batch [0/898], Loss: 0.9271\n",
            "Batch [100/898], Loss: 1.0209\n",
            "Batch [200/898], Loss: 1.0303\n",
            "Batch [300/898], Loss: 1.1458\n",
            "Batch [400/898], Loss: 1.1523\n",
            "Batch [500/898], Loss: 1.2620\n",
            "Batch [600/898], Loss: 1.2541\n",
            "Batch [700/898], Loss: 1.0832\n",
            "Batch [800/898], Loss: 1.2643\n",
            "Training - Loss: 1.2169, Accuracy: 53.92%\n",
            "Validation - Loss: 1.1069, Accuracy: 57.81%\n",
            "\n",
            "Epoch 13/30\n",
            "------------------------------\n"
          ]
        },
        {
          "output_type": "stream",
          "name": "stderr",
          "text": [
            "Please wait, filling up the shuffle buffer with samples.:   7%|▋         | 140M/1.91G [00:18<03:55, 8.06MB/s]/usr/local/lib/python3.11/dist-packages/deeplake/util/warnings.py:7: UserWarning: `MAX_TENSORS_IN_SHUFFLE_BUFFER` of 32000 reached. Shuffle buffer will not be filled up to the `buffer_size` limit of 2.05e+03 MB.\n",
            "  warnings.warn(*args, **kwargs)\n",
            "Please wait, filling up the shuffle buffer with samples.:   7%|▋         | 141M/1.91G [00:18<03:55, 8.07MB/s]\n"
          ]
        },
        {
          "output_type": "stream",
          "name": "stdout",
          "text": [
            "Shuffle buffer filling is complete.\n",
            "Batch [0/898], Loss: 1.1543\n",
            "Batch [100/898], Loss: 0.9151\n",
            "Batch [200/898], Loss: 0.8647\n",
            "Batch [300/898], Loss: 0.9390\n",
            "Batch [400/898], Loss: 1.4265\n",
            "Batch [500/898], Loss: 1.3806\n",
            "Batch [600/898], Loss: 1.2960\n",
            "Batch [700/898], Loss: 1.0563\n",
            "Batch [800/898], Loss: 0.8587\n",
            "Training - Loss: 1.2027, Accuracy: 54.20%\n",
            "Validation - Loss: 1.0838, Accuracy: 58.79%\n",
            "New best model saved! Accuracy: 58.79%\n",
            "\n",
            "Epoch 14/30\n",
            "------------------------------\n"
          ]
        },
        {
          "output_type": "stream",
          "name": "stderr",
          "text": [
            "Please wait, filling up the shuffle buffer with samples.:   7%|▋         | 140M/1.91G [00:18<03:16, 9.66MB/s]/usr/local/lib/python3.11/dist-packages/deeplake/util/warnings.py:7: UserWarning: `MAX_TENSORS_IN_SHUFFLE_BUFFER` of 32000 reached. Shuffle buffer will not be filled up to the `buffer_size` limit of 2.05e+03 MB.\n",
            "  warnings.warn(*args, **kwargs)\n",
            "Please wait, filling up the shuffle buffer with samples.:   7%|▋         | 141M/1.91G [00:18<04:02, 7.83MB/s]\n"
          ]
        },
        {
          "output_type": "stream",
          "name": "stdout",
          "text": [
            "Shuffle buffer filling is complete.\n",
            "Batch [0/898], Loss: 1.3506\n",
            "Batch [100/898], Loss: 1.0825\n",
            "Batch [200/898], Loss: 1.1907\n",
            "Batch [300/898], Loss: 1.0326\n",
            "Batch [400/898], Loss: 0.7730\n",
            "Batch [500/898], Loss: 0.9505\n",
            "Batch [600/898], Loss: 1.3761\n",
            "Batch [700/898], Loss: 1.3269\n",
            "Batch [800/898], Loss: 1.1275\n",
            "Training - Loss: 1.2062, Accuracy: 54.51%\n",
            "Validation - Loss: 1.0944, Accuracy: 58.70%\n",
            "\n",
            "Epoch 15/30\n",
            "------------------------------\n"
          ]
        },
        {
          "output_type": "stream",
          "name": "stderr",
          "text": [
            "Please wait, filling up the shuffle buffer with samples.:   7%|▋         | 140M/1.91G [00:18<03:03, 10.3MB/s]/usr/local/lib/python3.11/dist-packages/deeplake/util/warnings.py:7: UserWarning: `MAX_TENSORS_IN_SHUFFLE_BUFFER` of 32000 reached. Shuffle buffer will not be filled up to the `buffer_size` limit of 2.05e+03 MB.\n",
            "  warnings.warn(*args, **kwargs)\n",
            "Please wait, filling up the shuffle buffer with samples.:   7%|▋         | 141M/1.91G [00:18<03:57, 7.99MB/s]\n"
          ]
        },
        {
          "output_type": "stream",
          "name": "stdout",
          "text": [
            "Shuffle buffer filling is complete.\n",
            "Batch [0/898], Loss: 1.1335\n",
            "Batch [100/898], Loss: 0.8747\n",
            "Batch [200/898], Loss: 1.5904\n",
            "Batch [300/898], Loss: 1.4043\n",
            "Batch [400/898], Loss: 1.2821\n",
            "Batch [500/898], Loss: 1.3608\n",
            "Batch [600/898], Loss: 1.0589\n",
            "Batch [700/898], Loss: 1.3469\n",
            "Batch [800/898], Loss: 1.0385\n",
            "Training - Loss: 1.1955, Accuracy: 54.85%\n",
            "Validation - Loss: 1.0543, Accuracy: 59.33%\n",
            "New best model saved! Accuracy: 59.33%\n",
            "\n",
            "Epoch 16/30\n",
            "------------------------------\n"
          ]
        },
        {
          "output_type": "stream",
          "name": "stderr",
          "text": [
            "Please wait, filling up the shuffle buffer with samples.:   7%|▋         | 140M/1.91G [00:23<03:11, 9.92MB/s]/usr/local/lib/python3.11/dist-packages/deeplake/util/warnings.py:7: UserWarning: `MAX_TENSORS_IN_SHUFFLE_BUFFER` of 32000 reached. Shuffle buffer will not be filled up to the `buffer_size` limit of 2.05e+03 MB.\n",
            "  warnings.warn(*args, **kwargs)\n",
            "Please wait, filling up the shuffle buffer with samples.:   7%|▋         | 141M/1.91G [00:23<05:05, 6.21MB/s]\n"
          ]
        },
        {
          "output_type": "stream",
          "name": "stdout",
          "text": [
            "Shuffle buffer filling is complete.\n",
            "Batch [0/898], Loss: 1.2696\n",
            "Batch [100/898], Loss: 1.5499\n",
            "Batch [200/898], Loss: 1.1147\n",
            "Batch [300/898], Loss: 1.2165\n",
            "Batch [400/898], Loss: 1.0752\n",
            "Batch [500/898], Loss: 1.1253\n",
            "Batch [600/898], Loss: 1.0531\n",
            "Batch [700/898], Loss: 1.4852\n",
            "Batch [800/898], Loss: 1.3398\n",
            "Training - Loss: 1.1910, Accuracy: 55.16%\n",
            "Validation - Loss: 1.0474, Accuracy: 60.17%\n",
            "New best model saved! Accuracy: 60.17%\n",
            "\n",
            "Epoch 17/30\n",
            "------------------------------\n"
          ]
        },
        {
          "output_type": "stream",
          "name": "stderr",
          "text": [
            "Please wait, filling up the shuffle buffer with samples.:   7%|▋         | 141M/1.91G [00:18<03:22, 9.40MB/s]/usr/local/lib/python3.11/dist-packages/deeplake/util/warnings.py:7: UserWarning: `MAX_TENSORS_IN_SHUFFLE_BUFFER` of 32000 reached. Shuffle buffer will not be filled up to the `buffer_size` limit of 2.05e+03 MB.\n",
            "  warnings.warn(*args, **kwargs)\n",
            "Please wait, filling up the shuffle buffer with samples.:   7%|▋         | 141M/1.91G [00:18<03:58, 7.97MB/s]\n"
          ]
        },
        {
          "output_type": "stream",
          "name": "stdout",
          "text": [
            "Shuffle buffer filling is complete.\n",
            "Batch [0/898], Loss: 0.9842\n",
            "Batch [100/898], Loss: 0.8849\n",
            "Batch [200/898], Loss: 1.1997\n",
            "Batch [300/898], Loss: 0.9196\n",
            "Batch [400/898], Loss: 1.2501\n",
            "Batch [500/898], Loss: 1.3173\n",
            "Batch [600/898], Loss: 1.0195\n",
            "Batch [700/898], Loss: 1.1527\n",
            "Batch [800/898], Loss: 1.1639\n",
            "Training - Loss: 1.1831, Accuracy: 55.58%\n",
            "Validation - Loss: 1.1083, Accuracy: 57.92%\n",
            "\n",
            "Epoch 18/30\n",
            "------------------------------\n"
          ]
        },
        {
          "output_type": "stream",
          "name": "stderr",
          "text": [
            "Please wait, filling up the shuffle buffer with samples.:   7%|▋         | 141M/1.91G [00:19<03:24, 9.31MB/s]/usr/local/lib/python3.11/dist-packages/deeplake/util/warnings.py:7: UserWarning: `MAX_TENSORS_IN_SHUFFLE_BUFFER` of 32000 reached. Shuffle buffer will not be filled up to the `buffer_size` limit of 2.05e+03 MB.\n",
            "  warnings.warn(*args, **kwargs)\n",
            "Please wait, filling up the shuffle buffer with samples.:   7%|▋         | 141M/1.91G [00:19<04:15, 7.43MB/s]\n"
          ]
        },
        {
          "output_type": "stream",
          "name": "stdout",
          "text": [
            "Shuffle buffer filling is complete.\n",
            "Batch [0/898], Loss: 1.1320\n",
            "Batch [100/898], Loss: 1.1747\n",
            "Batch [200/898], Loss: 1.1202\n",
            "Batch [300/898], Loss: 0.8599\n",
            "Batch [400/898], Loss: 0.8787\n",
            "Batch [500/898], Loss: 1.1460\n",
            "Batch [600/898], Loss: 1.3180\n",
            "Batch [700/898], Loss: 1.1446\n",
            "Batch [800/898], Loss: 1.3327\n",
            "Training - Loss: 1.1777, Accuracy: 55.52%\n",
            "Validation - Loss: 1.0577, Accuracy: 60.09%\n",
            "\n",
            "Epoch 19/30\n",
            "------------------------------\n"
          ]
        },
        {
          "output_type": "stream",
          "name": "stderr",
          "text": [
            "Please wait, filling up the shuffle buffer with samples.:   7%|▋         | 140M/1.91G [00:17<03:00, 10.5MB/s]/usr/local/lib/python3.11/dist-packages/deeplake/util/warnings.py:7: UserWarning: `MAX_TENSORS_IN_SHUFFLE_BUFFER` of 32000 reached. Shuffle buffer will not be filled up to the `buffer_size` limit of 2.05e+03 MB.\n",
            "  warnings.warn(*args, **kwargs)\n",
            "Please wait, filling up the shuffle buffer with samples.:   7%|▋         | 141M/1.91G [00:17<03:49, 8.29MB/s]\n"
          ]
        },
        {
          "output_type": "stream",
          "name": "stdout",
          "text": [
            "Shuffle buffer filling is complete.\n",
            "Batch [0/898], Loss: 1.2073\n",
            "Batch [100/898], Loss: 1.1777\n",
            "Batch [200/898], Loss: 1.2055\n",
            "Batch [300/898], Loss: 1.0673\n",
            "Batch [400/898], Loss: 1.2847\n",
            "Batch [500/898], Loss: 1.4983\n",
            "Batch [600/898], Loss: 1.1599\n",
            "Batch [700/898], Loss: 0.9166\n",
            "Batch [800/898], Loss: 0.9247\n",
            "Training - Loss: 1.1701, Accuracy: 55.62%\n",
            "Validation - Loss: 1.0438, Accuracy: 60.40%\n",
            "New best model saved! Accuracy: 60.40%\n",
            "\n",
            "Epoch 20/30\n",
            "------------------------------\n"
          ]
        },
        {
          "output_type": "stream",
          "name": "stderr",
          "text": [
            "Please wait, filling up the shuffle buffer with samples.:   7%|▋         | 141M/1.91G [00:18<03:35, 8.83MB/s]/usr/local/lib/python3.11/dist-packages/deeplake/util/warnings.py:7: UserWarning: `MAX_TENSORS_IN_SHUFFLE_BUFFER` of 32000 reached. Shuffle buffer will not be filled up to the `buffer_size` limit of 2.05e+03 MB.\n",
            "  warnings.warn(*args, **kwargs)\n",
            "Please wait, filling up the shuffle buffer with samples.:   7%|▋         | 141M/1.91G [00:18<03:52, 8.18MB/s]\n"
          ]
        },
        {
          "output_type": "stream",
          "name": "stdout",
          "text": [
            "Shuffle buffer filling is complete.\n",
            "Batch [0/898], Loss: 1.3622\n",
            "Batch [100/898], Loss: 1.2210\n",
            "Batch [200/898], Loss: 1.2230\n",
            "Batch [300/898], Loss: 1.1592\n",
            "Batch [400/898], Loss: 1.0873\n",
            "Batch [500/898], Loss: 1.3163\n",
            "Batch [600/898], Loss: 1.0924\n",
            "Batch [700/898], Loss: 1.1086\n",
            "Batch [800/898], Loss: 1.3944\n",
            "Training - Loss: 1.1651, Accuracy: 55.66%\n",
            "Validation - Loss: 1.0502, Accuracy: 60.16%\n",
            "\n",
            "Epoch 21/30\n",
            "------------------------------\n"
          ]
        },
        {
          "output_type": "stream",
          "name": "stderr",
          "text": [
            "Please wait, filling up the shuffle buffer with samples.:   7%|▋         | 140M/1.91G [00:18<02:58, 10.7MB/s]/usr/local/lib/python3.11/dist-packages/deeplake/util/warnings.py:7: UserWarning: `MAX_TENSORS_IN_SHUFFLE_BUFFER` of 32000 reached. Shuffle buffer will not be filled up to the `buffer_size` limit of 2.05e+03 MB.\n",
            "  warnings.warn(*args, **kwargs)\n",
            "Please wait, filling up the shuffle buffer with samples.:   7%|▋         | 141M/1.91G [00:18<03:57, 7.99MB/s]\n"
          ]
        },
        {
          "output_type": "stream",
          "name": "stdout",
          "text": [
            "Shuffle buffer filling is complete.\n",
            "Batch [0/898], Loss: 1.2921\n",
            "Batch [100/898], Loss: 1.3135\n",
            "Batch [200/898], Loss: 1.3694\n",
            "Batch [300/898], Loss: 1.1442\n",
            "Batch [400/898], Loss: 1.3173\n",
            "Batch [500/898], Loss: 1.3247\n",
            "Batch [600/898], Loss: 1.0883\n",
            "Batch [700/898], Loss: 1.0860\n",
            "Batch [800/898], Loss: 0.7377\n",
            "Training - Loss: 1.1665, Accuracy: 55.98%\n",
            "Validation - Loss: 1.0366, Accuracy: 60.78%\n",
            "New best model saved! Accuracy: 60.78%\n",
            "\n",
            "Epoch 22/30\n",
            "------------------------------\n"
          ]
        },
        {
          "output_type": "stream",
          "name": "stderr",
          "text": [
            "Please wait, filling up the shuffle buffer with samples.:   7%|▋         | 140M/1.91G [00:18<03:20, 9.47MB/s]/usr/local/lib/python3.11/dist-packages/deeplake/util/warnings.py:7: UserWarning: `MAX_TENSORS_IN_SHUFFLE_BUFFER` of 32000 reached. Shuffle buffer will not be filled up to the `buffer_size` limit of 2.05e+03 MB.\n",
            "  warnings.warn(*args, **kwargs)\n",
            "Please wait, filling up the shuffle buffer with samples.:   7%|▋         | 141M/1.91G [00:18<03:59, 7.93MB/s]\n"
          ]
        },
        {
          "output_type": "stream",
          "name": "stdout",
          "text": [
            "Shuffle buffer filling is complete.\n",
            "Batch [0/898], Loss: 1.3386\n",
            "Batch [100/898], Loss: 1.2390\n",
            "Batch [200/898], Loss: 1.4480\n",
            "Batch [300/898], Loss: 0.9996\n",
            "Batch [400/898], Loss: 0.9942\n",
            "Batch [500/898], Loss: 1.3086\n",
            "Batch [600/898], Loss: 0.8880\n",
            "Batch [700/898], Loss: 1.0807\n",
            "Batch [800/898], Loss: 1.1581\n",
            "Training - Loss: 1.1608, Accuracy: 55.81%\n",
            "Validation - Loss: 1.0419, Accuracy: 60.41%\n",
            "\n",
            "Epoch 23/30\n",
            "------------------------------\n"
          ]
        },
        {
          "output_type": "stream",
          "name": "stderr",
          "text": [
            "Please wait, filling up the shuffle buffer with samples.:   7%|▋         | 140M/1.91G [00:19<03:25, 9.26MB/s]/usr/local/lib/python3.11/dist-packages/deeplake/util/warnings.py:7: UserWarning: `MAX_TENSORS_IN_SHUFFLE_BUFFER` of 32000 reached. Shuffle buffer will not be filled up to the `buffer_size` limit of 2.05e+03 MB.\n",
            "  warnings.warn(*args, **kwargs)\n",
            "Please wait, filling up the shuffle buffer with samples.:   7%|▋         | 141M/1.91G [00:19<04:05, 7.73MB/s]\n"
          ]
        },
        {
          "output_type": "stream",
          "name": "stdout",
          "text": [
            "Shuffle buffer filling is complete.\n",
            "Batch [0/898], Loss: 0.9039\n",
            "Batch [100/898], Loss: 0.9312\n",
            "Batch [200/898], Loss: 1.2982\n",
            "Batch [300/898], Loss: 1.4683\n",
            "Batch [400/898], Loss: 1.0945\n",
            "Batch [500/898], Loss: 0.9960\n",
            "Batch [600/898], Loss: 1.0159\n",
            "Batch [700/898], Loss: 1.2482\n",
            "Batch [800/898], Loss: 0.9718\n",
            "Training - Loss: 1.1601, Accuracy: 56.24%\n",
            "Validation - Loss: 1.0236, Accuracy: 60.98%\n",
            "New best model saved! Accuracy: 60.98%\n",
            "\n",
            "Epoch 24/30\n",
            "------------------------------\n"
          ]
        },
        {
          "output_type": "stream",
          "name": "stderr",
          "text": [
            "Please wait, filling up the shuffle buffer with samples.:   7%|▋         | 141M/1.91G [00:17<04:10, 7.59MB/s]/usr/local/lib/python3.11/dist-packages/deeplake/util/warnings.py:7: UserWarning: `MAX_TENSORS_IN_SHUFFLE_BUFFER` of 32000 reached. Shuffle buffer will not be filled up to the `buffer_size` limit of 2.05e+03 MB.\n",
            "  warnings.warn(*args, **kwargs)\n",
            "Please wait, filling up the shuffle buffer with samples.:   7%|▋         | 141M/1.91G [00:17<03:50, 8.25MB/s]\n"
          ]
        },
        {
          "output_type": "stream",
          "name": "stdout",
          "text": [
            "Shuffle buffer filling is complete.\n",
            "Batch [0/898], Loss: 1.2662\n",
            "Batch [100/898], Loss: 1.2791\n",
            "Batch [200/898], Loss: 1.4066\n",
            "Batch [300/898], Loss: 1.4384\n",
            "Batch [400/898], Loss: 0.9978\n",
            "Batch [500/898], Loss: 0.9989\n",
            "Batch [600/898], Loss: 1.4614\n",
            "Batch [700/898], Loss: 1.2555\n",
            "Batch [800/898], Loss: 1.1152\n",
            "Training - Loss: 1.1548, Accuracy: 56.37%\n",
            "Validation - Loss: 1.0363, Accuracy: 60.83%\n",
            "\n",
            "Epoch 25/30\n",
            "------------------------------\n"
          ]
        },
        {
          "output_type": "stream",
          "name": "stderr",
          "text": [
            "Please wait, filling up the shuffle buffer with samples.:   7%|▋         | 140M/1.91G [00:21<03:17, 9.63MB/s]/usr/local/lib/python3.11/dist-packages/deeplake/util/warnings.py:7: UserWarning: `MAX_TENSORS_IN_SHUFFLE_BUFFER` of 32000 reached. Shuffle buffer will not be filled up to the `buffer_size` limit of 2.05e+03 MB.\n",
            "  warnings.warn(*args, **kwargs)\n",
            "Please wait, filling up the shuffle buffer with samples.:   7%|▋         | 141M/1.91G [00:21<04:40, 6.78MB/s]\n"
          ]
        },
        {
          "output_type": "stream",
          "name": "stdout",
          "text": [
            "Shuffle buffer filling is complete.\n",
            "Batch [0/898], Loss: 1.1263\n",
            "Batch [100/898], Loss: 1.3880\n",
            "Batch [200/898], Loss: 1.2375\n",
            "Batch [300/898], Loss: 1.1784\n",
            "Batch [400/898], Loss: 1.2996\n",
            "Batch [500/898], Loss: 1.2605\n",
            "Batch [600/898], Loss: 1.1147\n",
            "Batch [700/898], Loss: 1.1017\n",
            "Batch [800/898], Loss: 0.9742\n",
            "Training - Loss: 1.1605, Accuracy: 56.16%\n",
            "Validation - Loss: 1.0129, Accuracy: 61.91%\n",
            "New best model saved! Accuracy: 61.91%\n",
            "\n",
            "Epoch 26/30\n",
            "------------------------------\n"
          ]
        },
        {
          "output_type": "stream",
          "name": "stderr",
          "text": [
            "Please wait, filling up the shuffle buffer with samples.:   7%|▋         | 141M/1.91G [00:18<03:09, 10.0MB/s]/usr/local/lib/python3.11/dist-packages/deeplake/util/warnings.py:7: UserWarning: `MAX_TENSORS_IN_SHUFFLE_BUFFER` of 32000 reached. Shuffle buffer will not be filled up to the `buffer_size` limit of 2.05e+03 MB.\n",
            "  warnings.warn(*args, **kwargs)\n",
            "Please wait, filling up the shuffle buffer with samples.:   7%|▋         | 141M/1.91G [00:18<03:56, 8.04MB/s]\n"
          ]
        },
        {
          "output_type": "stream",
          "name": "stdout",
          "text": [
            "Shuffle buffer filling is complete.\n",
            "Batch [0/898], Loss: 1.0906\n",
            "Batch [100/898], Loss: 1.1236\n",
            "Batch [200/898], Loss: 1.0540\n",
            "Batch [300/898], Loss: 0.9213\n",
            "Batch [400/898], Loss: 1.2225\n",
            "Batch [500/898], Loss: 0.9420\n",
            "Batch [600/898], Loss: 1.3905\n",
            "Batch [700/898], Loss: 1.2667\n",
            "Batch [800/898], Loss: 1.1343\n",
            "Training - Loss: 1.1412, Accuracy: 56.75%\n",
            "Validation - Loss: 1.0015, Accuracy: 62.35%\n",
            "New best model saved! Accuracy: 62.35%\n",
            "\n",
            "Epoch 27/30\n",
            "------------------------------\n"
          ]
        },
        {
          "output_type": "stream",
          "name": "stderr",
          "text": [
            "Please wait, filling up the shuffle buffer with samples.:   7%|▋         | 140M/1.91G [00:20<03:10, 9.97MB/s]/usr/local/lib/python3.11/dist-packages/deeplake/util/warnings.py:7: UserWarning: `MAX_TENSORS_IN_SHUFFLE_BUFFER` of 32000 reached. Shuffle buffer will not be filled up to the `buffer_size` limit of 2.05e+03 MB.\n",
            "  warnings.warn(*args, **kwargs)\n",
            "Please wait, filling up the shuffle buffer with samples.:   7%|▋         | 141M/1.91G [00:20<04:23, 7.22MB/s]\n"
          ]
        },
        {
          "output_type": "stream",
          "name": "stdout",
          "text": [
            "Shuffle buffer filling is complete.\n",
            "Batch [0/898], Loss: 1.0392\n",
            "Batch [100/898], Loss: 0.9331\n",
            "Batch [200/898], Loss: 1.1705\n",
            "Batch [300/898], Loss: 1.1144\n",
            "Batch [400/898], Loss: 1.4784\n",
            "Batch [500/898], Loss: 1.1067\n",
            "Batch [600/898], Loss: 1.0355\n",
            "Batch [700/898], Loss: 0.8842\n",
            "Batch [800/898], Loss: 1.2919\n",
            "Training - Loss: 1.1445, Accuracy: 56.73%\n",
            "Validation - Loss: 1.0070, Accuracy: 62.23%\n",
            "\n",
            "Epoch 28/30\n",
            "------------------------------\n"
          ]
        },
        {
          "output_type": "stream",
          "name": "stderr",
          "text": [
            "Please wait, filling up the shuffle buffer with samples.:   7%|▋         | 140M/1.91G [00:17<04:11, 7.55MB/s]/usr/local/lib/python3.11/dist-packages/deeplake/util/warnings.py:7: UserWarning: `MAX_TENSORS_IN_SHUFFLE_BUFFER` of 32000 reached. Shuffle buffer will not be filled up to the `buffer_size` limit of 2.05e+03 MB.\n",
            "  warnings.warn(*args, **kwargs)\n",
            "Please wait, filling up the shuffle buffer with samples.:   7%|▋         | 141M/1.91G [00:17<03:49, 8.29MB/s]\n"
          ]
        },
        {
          "output_type": "stream",
          "name": "stdout",
          "text": [
            "Shuffle buffer filling is complete.\n",
            "Batch [0/898], Loss: 1.1562\n",
            "Batch [100/898], Loss: 1.0279\n",
            "Batch [200/898], Loss: 1.2003\n",
            "Batch [300/898], Loss: 1.1037\n",
            "Batch [400/898], Loss: 1.2937\n",
            "Batch [500/898], Loss: 0.9014\n",
            "Batch [600/898], Loss: 1.3736\n",
            "Batch [700/898], Loss: 0.8701\n",
            "Batch [800/898], Loss: 1.0890\n",
            "Training - Loss: 1.1422, Accuracy: 57.08%\n",
            "Validation - Loss: 0.9834, Accuracy: 62.89%\n",
            "New best model saved! Accuracy: 62.89%\n",
            "\n",
            "Epoch 29/30\n",
            "------------------------------\n"
          ]
        },
        {
          "output_type": "stream",
          "name": "stderr",
          "text": [
            "Please wait, filling up the shuffle buffer with samples.:   7%|▋         | 140M/1.91G [00:19<02:55, 10.9MB/s]/usr/local/lib/python3.11/dist-packages/deeplake/util/warnings.py:7: UserWarning: `MAX_TENSORS_IN_SHUFFLE_BUFFER` of 32000 reached. Shuffle buffer will not be filled up to the `buffer_size` limit of 2.05e+03 MB.\n",
            "  warnings.warn(*args, **kwargs)\n",
            "Please wait, filling up the shuffle buffer with samples.:   7%|▋         | 141M/1.91G [00:19<04:06, 7.71MB/s]\n"
          ]
        },
        {
          "output_type": "stream",
          "name": "stdout",
          "text": [
            "Shuffle buffer filling is complete.\n",
            "Batch [0/898], Loss: 1.0922\n",
            "Batch [100/898], Loss: 0.8442\n",
            "Batch [200/898], Loss: 1.2733\n",
            "Batch [300/898], Loss: 1.0293\n",
            "Batch [400/898], Loss: 1.3680\n",
            "Batch [500/898], Loss: 0.9228\n",
            "Batch [600/898], Loss: 1.1009\n",
            "Batch [700/898], Loss: 1.1568\n",
            "Batch [800/898], Loss: 1.0848\n",
            "Training - Loss: 1.1363, Accuracy: 56.67%\n",
            "Validation - Loss: 0.9938, Accuracy: 62.03%\n",
            "\n",
            "Epoch 30/30\n",
            "------------------------------\n"
          ]
        },
        {
          "output_type": "stream",
          "name": "stderr",
          "text": [
            "Please wait, filling up the shuffle buffer with samples.:   7%|▋         | 141M/1.91G [00:18<04:00, 7.90MB/s]/usr/local/lib/python3.11/dist-packages/deeplake/util/warnings.py:7: UserWarning: `MAX_TENSORS_IN_SHUFFLE_BUFFER` of 32000 reached. Shuffle buffer will not be filled up to the `buffer_size` limit of 2.05e+03 MB.\n",
            "  warnings.warn(*args, **kwargs)\n",
            "Please wait, filling up the shuffle buffer with samples.:   7%|▋         | 141M/1.91G [00:18<04:03, 7.80MB/s]\n"
          ]
        },
        {
          "output_type": "stream",
          "name": "stdout",
          "text": [
            "Shuffle buffer filling is complete.\n",
            "Batch [0/898], Loss: 0.9974\n",
            "Batch [100/898], Loss: 1.0807\n",
            "Batch [200/898], Loss: 1.2744\n",
            "Batch [300/898], Loss: 1.0759\n",
            "Batch [400/898], Loss: 0.9974\n",
            "Batch [500/898], Loss: 0.9629\n",
            "Batch [600/898], Loss: 1.3708\n",
            "Batch [700/898], Loss: 1.2622\n",
            "Batch [800/898], Loss: 1.2651\n",
            "Training - Loss: 1.1354, Accuracy: 57.27%\n",
            "Validation - Loss: 0.9955, Accuracy: 62.25%\n"
          ]
        }
      ]
    },
    {
      "cell_type": "code",
      "source": [
        "print(f'\\nTraining completed!')\n",
        "print(f'Best validation accuracy: {best_accuracy:.2f}%')"
      ],
      "metadata": {
        "id": "Saf-Ss3CdUpI",
        "colab": {
          "base_uri": "https://localhost:8080/"
        },
        "outputId": "0a00eef2-d634-4e3a-bdee-741b05e78f16"
      },
      "execution_count": 11,
      "outputs": [
        {
          "output_type": "stream",
          "name": "stdout",
          "text": [
            "\n",
            "Training completed!\n",
            "Best validation accuracy: 62.89%\n"
          ]
        }
      ]
    },
    {
      "cell_type": "code",
      "source": [
        "# Plot results\n",
        "plt.figure(figsize=(12, 4))\n",
        "\n",
        "plt.subplot(1, 2, 1)\n",
        "plt.plot(train_losses, label='Training Loss')\n",
        "plt.plot(val_losses, label='Validation Loss')\n",
        "plt.title('Training and Validation Loss')\n",
        "plt.xlabel('Epoch')\n",
        "plt.ylabel('Loss')\n",
        "plt.legend()\n",
        "\n",
        "plt.subplot(1, 2, 2)\n",
        "plt.plot(train_accuracies, label='Training Accuracy')\n",
        "plt.plot(val_accuracies, label='Validation Accuracy')\n",
        "plt.title('Training and Validation Accuracy')\n",
        "plt.xlabel('Epoch')\n",
        "plt.ylabel('Accuracy (%)')\n",
        "plt.legend()\n",
        "\n",
        "plt.tight_layout()\n",
        "plt.show()\n",
        "\n",
        "# Test a few samples\n",
        "def test_samples(model, test_loader, num_samples=8):\n",
        "    model.eval()\n",
        "\n",
        "    # Get one batch\n",
        "    batch = next(iter(test_loader))\n",
        "    images = batch['images'][:num_samples].to(device)\n",
        "    labels = batch['labels'][:num_samples].to(device)\n",
        "\n",
        "    with torch.no_grad():\n",
        "        outputs = model(images)\n",
        "        _, predicted = torch.max(outputs, 1)\n",
        "\n",
        "    # Plot results\n",
        "    plt.figure(figsize=(15, 5))\n",
        "    for i in range(num_samples):\n",
        "        plt.subplot(2, 4, i+1)\n",
        "        img = images[i].cpu().squeeze().numpy()\n",
        "        plt.imshow(img, cmap='gray')\n",
        "\n",
        "        true_label = emotions[labels[i].item()]\n",
        "        pred_label = emotions[predicted[i].item()]\n",
        "\n",
        "        color = 'green' if true_label == pred_label else 'red'\n",
        "        plt.title(f'True: {true_label}\\nPred: {pred_label}', color=color)\n",
        "        plt.axis('off')\n",
        "\n",
        "    plt.tight_layout()\n",
        "    plt.show()\n",
        "\n",
        "# Test some samples\n",
        "print(\"\\nTesting model on sample images...\")\n",
        "test_samples(model, test_loader)\n",
        "\n",
        "# Final evaluation\n",
        "print(\"\\nFinal model evaluation:\")\n",
        "final_loss, final_accuracy = validate(model, test_loader, criterion)\n",
        "print(f'Final Test Loss: {final_loss:.4f}')\n",
        "print(f'Final Test Accuracy: {final_accuracy:.2f}%')\n"
      ],
      "metadata": {
        "id": "j56DKQyodB7x",
        "colab": {
          "base_uri": "https://localhost:8080/",
          "height": 870
        },
        "outputId": "d1ab12bc-9437-45bb-ea57-b0ad22f2067d"
      },
      "execution_count": 12,
      "outputs": [
        {
          "output_type": "display_data",
          "data": {
            "text/plain": [
              "<Figure size 1200x400 with 2 Axes>"
            ],
            "image/png": "[encoded data removed]"
          },
          "metadata": {}
        },
        {
          "output_type": "stream",
          "name": "stdout",
          "text": [
            "\n",
            "Testing model on sample images...\n"
          ]
        },
        {
          "output_type": "display_data",
          "data": {
            "text/plain": [
              "<Figure size 1500x500 with 8 Axes>"
            ],
            "image/png": "[encoded data removed]"
          },
          "metadata": {}
        },
        {
          "output_type": "stream",
          "name": "stdout",
          "text": [
            "\n",
            "Final model evaluation:\n",
            "Final Test Loss: 0.9955\n",
            "Final Test Accuracy: 62.25%\n"
          ]
        }
      ]
    },
    {
      "cell_type": "code",
      "source": [],
      "metadata": {
        "id": "k1FcbsYEN7rq"
      },
      "execution_count": 12,
      "outputs": []
    }
  ]
}